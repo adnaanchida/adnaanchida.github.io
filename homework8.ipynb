{
 "cells": [
  {
   "cell_type": "markdown",
   "id": "a450259a",
   "metadata": {},
   "source": [
    "Starboard permalink: https://starboard.gg/nb/nb0jfeJ"
   ]
  },
  {
   "cell_type": "markdown",
   "id": "d7342b5f",
   "metadata": {},
   "source": []
  },
  {
   "cell_type": "markdown",
   "id": "ebb61172",
   "metadata": {},
   "source": [
    "Starboard link: https://starboard.gg/nb/nb0jfeJ\n",
    "\n",
    "References:\n",
    "\n",
    "https://github.com/jnaiman/online_cv_public\n",
    "\n",
    "https://starboard.gg/jnaiman/inClass_week08_online_fall2022-nTSNvll\n",
    "\n",
    "https://uiuc-ischool-dataviz.github.io/is445_oauoag_fall2022/week09/installation_instructions_week11.html\n",
    "\n",
    "https://starboard.gg/jnaiman/inClass_week09_online_fall2022-noY2U59\n",
    "\n",
    "https://uiuc-ischool-dataviz.github.io/is445_oauoag_fall2022/nbv.html?notebook_name=%2Fis445_oauoag_fall2022%2Fweek11%2FinClass_week11.ipynb"
   ]
  },
  {
   "cell_type": "markdown",
   "id": "ca544da2",
   "metadata": {},
   "source": [
    "# Importing Libraries and Data Investigation in Python"
   ]
  },
  {
   "cell_type": "markdown",
   "id": "530a96e3",
   "metadata": {},
   "source": [
    "```javascript\n",
    "import libraries\n",
    "import pyodide\n",
    "import pandas as pd\n",
    "```"
   ]
  },
  {
   "cell_type": "markdown",
   "id": "a3befcd8",
   "metadata": {},
   "source": [
    "```javascript\n",
    "linkx='https://raw.githubusercontent.com/UIUC-iSchool-DataViz/is445_bcubcg_fall2022/main/data/building_inventory.csv' import link\n",
    "build = pd.read_csv(pyodide.open_url(linkx))\n",
    "build.head()\n",
    "```"
   ]
  },
  {
   "cell_type": "markdown",
   "id": "020b18b3",
   "metadata": {},
   "source": [
    "``` javascript\n",
    "build.isna().sum().sum  # null values\n",
    "build.shape  # shape of the dataset\n",
    "build1=build.dropna()  # remove null values\n",
    "build1.shape  # after removing null values\n",
    "```"
   ]
  },
  {
   "cell_type": "markdown",
   "id": "7a0d6d41",
   "metadata": {},
   "source": [
    "# Creating Plots in Vega-Lite"
   ]
  },
  {
   "cell_type": "markdown",
   "id": "de9fd4de",
   "metadata": {},
   "source": [
    "```javascript\n",
    "//importing vegalite\n",
    "await import(\"https://cdn.jsdelivr.net/npm/vega@5.20.2/build/vega.min.js\");\n",
    "await import(\"https://cdn.jsdelivr.net/npm/vega-lite@5.1.0/build/vega-lite.min.js\");\n",
    "await import(\"https://cdn.jsdelivr.net/npm/vega-embed@6.18.2/build/vega-embed.min.js\");\n",
    "```"
   ]
  },
  {
   "cell_type": "markdown",
   "id": "f91c7bb7",
   "metadata": {},
   "source": [
    "```javascript\n",
    "vegaEmbed\n",
    "```"
   ]
  },
  {
   "cell_type": "markdown",
   "id": "ad60ac94",
   "metadata": {},
   "source": [
    "## Creating Plot 1 and 2 Separately First"
   ]
  },
  {
   "cell_type": "markdown",
   "id": "5dc60f2f",
   "metadata": {},
   "source": [
    "```javascript\n",
    "<div id=\"viz1\"></div>\n",
    "```"
   ]
  },
  {
   "cell_type": "markdown",
   "id": "66987bb5",
   "metadata": {},
   "source": [
    "```javascript\n",
    "var plot1 = {\n",
    "  \"data\":{'url': 'https://raw.githubusercontent.com/UIUC-iSchool-DataViz/is445_bcubcg_fall2022/main/data/building_inventory.csv'},\n",
    "  \"mark\": {\"type\":\"bar\", \"opacity\":0.9},\n",
    "  \"width\":575,\n",
    "  \"encoding\":{\n",
    "    \"x\":{\"field\":'Agency Name', \"type\":\"ordinal\"},\n",
    "    \"y\":{\"field\":'Total Floors', \"type\":\"quantitative\", \"aggregate\":\"average\"},\n",
    "    \"color\":{\"field\":'Square Footage',\"type\":\"quantitative\", \"aggregate\":\"average\"}\n",
    "  } \n",
    "};\n",
    "var v = vegaEmbed('#viz1',plot1);\n",
    "```"
   ]
  },
  {
   "cell_type": "markdown",
   "id": "42ad10d0",
   "metadata": {},
   "source": [
    "```javascript\n",
    "<div id=\"viz2\"></div>\n",
    "```"
   ]
  },
  {
   "cell_type": "markdown",
   "id": "48e29278",
   "metadata": {},
   "source": [
    "```javascript// plot 2\n",
    "var plot2 = {\n",
    "  \"data\":{'url': 'https://raw.githubusercontent.com/UIUC-iSchool-DataViz/is445_bcubcg_fall2022/main/data/building_inventory.csv'},\n",
    "  \"mark\": {\"type\":\"bar\", \"color\":\"red\", \"opacity\":0.6},\n",
    "  \"width\":575,\n",
    "  \"encoding\":{\n",
    "    \"x\":{\"field\":'Bldg Status', \"type\":\"ordinal\"},\n",
    "    \"y\":{\"field\":'Square Footage', \"type\":\"quantitative\", \"aggregate\":\"median\"}\n",
    "\n",
    "  } \n",
    "};\n",
    "\n",
    "var v = vegaEmbed('#viz2',plot2);\n",
    "```"
   ]
  },
  {
   "cell_type": "markdown",
   "id": "d869fde2",
   "metadata": {},
   "source": [
    "## Combining both the plots and adding interactivity"
   ]
  },
  {
   "cell_type": "markdown",
   "id": "1750c312",
   "metadata": {},
   "source": [
    "```javascript\n",
    "<div id='bothx'></div>\n",
    "```"
   ]
  },
  {
   "cell_type": "markdown",
   "id": "2e6dd6db",
   "metadata": {},
   "source": [
    "```javascript\n",
    "var both=\n",
    "{\n",
    "  \"data\": {'url': 'https://raw.githubusercontent.com/UIUC-iSchool-DataViz/is445_bcubcg_fall2022/main/data/building_inventory.csv'},\n",
    "  \"hconcat\":[\n",
    "//plot 1\n",
    "{\n",
    "  \"params\":[{\"name\":'trial',\"select\":\"interval\"}],\n",
    "  description: \"plot 1\",\n",
    "  \"mark\": {\"type\":\"bar\", \"opacity\":0.9},\n",
    "  \"width\":575,\n",
    "  \"encoding\":{\n",
    "    \"x\":{\"field\":'Agency Name', \"type\":\"ordinal\"},\n",
    "    \"y\":{\"field\":'Total Floors', \"type\":\"quantitative\", \"aggregate\":\"average\"},\n",
    "    \"color\":{\"field\":'Square Footage',\"type\":\"quantitative\", \"aggregate\":\"average\"}\n",
    "  }\n",
    "}\n",
    ",\n",
    "//plot 2\n",
    "{\n",
    "  \"transform\":[{\"filter\":{\"param\":\"trial\"}}],\n",
    "  \"mark\": {\"type\":\"bar\", \"color\":\"red\", \"opacity\":0.6},\n",
    "  \"width\":575,\n",
    "  \"encoding\":{\n",
    "    \"x\":{\"field\":'Bldg Status', \"type\":\"ordinal\"},\n",
    "    \"y\":{\"field\":'Square Footage', \"type\":\"quantitative\", \"aggregate\":\"median\"}\n",
    "  }   \n",
    "}\n",
    "  ]\n",
    "};\n",
    "\n",
    "var v= vegaEmbed(\"#bothx\",both)\n",
    "```"
   ]
  },
  {
   "cell_type": "markdown",
   "id": "3db2fc57",
   "metadata": {},
   "source": [
    "# Converting Vega-Lite Plots to Altair"
   ]
  },
  {
   "cell_type": "code",
   "execution_count": 1,
   "id": "1e89c7a1",
   "metadata": {},
   "outputs": [],
   "source": [
    "import altair as alt"
   ]
  },
  {
   "cell_type": "markdown",
   "id": "44d21ef0",
   "metadata": {},
   "source": [
    "# Plot 1 "
   ]
  },
  {
   "cell_type": "code",
   "execution_count": 2,
   "id": "2766827b",
   "metadata": {},
   "outputs": [],
   "source": [
    "plt1 = alt.Chart.from_dict({\n",
    "  \"data\":{'url': 'https://raw.githubusercontent.com/UIUC-iSchool-DataViz/is445_bcubcg_fall2022/main/data/building_inventory.csv'},\n",
    "  \"mark\": {\"type\":\"bar\", \"opacity\":0.9},\n",
    "  \"width\":575,\n",
    "  \"encoding\":{\n",
    "    \"x\":{\"field\":'Agency Name', \"type\":\"ordinal\"},\n",
    "    \"y\":{\"field\":'Total Floors', \"type\":\"quantitative\", \"aggregate\":\"average\"},\n",
    "    \"color\":{\"field\":'Square Footage',\"type\":\"quantitative\", \"aggregate\":\"average\"}\n",
    "  } \n",
    "}   \n",
    "  )\n"
   ]
  },
  {
   "cell_type": "code",
   "execution_count": 3,
   "id": "5694cb4d",
   "metadata": {},
   "outputs": [
    {
     "data": {
      "text/html": [
       "\n",
       "<div id=\"altair-viz-21de23cc77304b02903711c03fc5e008\"></div>\n",
       "<script type=\"text/javascript\">\n",
       "  var VEGA_DEBUG = (typeof VEGA_DEBUG == \"undefined\") ? {} : VEGA_DEBUG;\n",
       "  (function(spec, embedOpt){\n",
       "    let outputDiv = document.currentScript.previousElementSibling;\n",
       "    if (outputDiv.id !== \"altair-viz-21de23cc77304b02903711c03fc5e008\") {\n",
       "      outputDiv = document.getElementById(\"altair-viz-21de23cc77304b02903711c03fc5e008\");\n",
       "    }\n",
       "    const paths = {\n",
       "      \"vega\": \"https://cdn.jsdelivr.net/npm//vega@5?noext\",\n",
       "      \"vega-lib\": \"https://cdn.jsdelivr.net/npm//vega-lib?noext\",\n",
       "      \"vega-lite\": \"https://cdn.jsdelivr.net/npm//vega-lite@4.17.0?noext\",\n",
       "      \"vega-embed\": \"https://cdn.jsdelivr.net/npm//vega-embed@6?noext\",\n",
       "    };\n",
       "\n",
       "    function maybeLoadScript(lib, version) {\n",
       "      var key = `${lib.replace(\"-\", \"\")}_version`;\n",
       "      return (VEGA_DEBUG[key] == version) ?\n",
       "        Promise.resolve(paths[lib]) :\n",
       "        new Promise(function(resolve, reject) {\n",
       "          var s = document.createElement('script');\n",
       "          document.getElementsByTagName(\"head\")[0].appendChild(s);\n",
       "          s.async = true;\n",
       "          s.onload = () => {\n",
       "            VEGA_DEBUG[key] = version;\n",
       "            return resolve(paths[lib]);\n",
       "          };\n",
       "          s.onerror = () => reject(`Error loading script: ${paths[lib]}`);\n",
       "          s.src = paths[lib];\n",
       "        });\n",
       "    }\n",
       "\n",
       "    function showError(err) {\n",
       "      outputDiv.innerHTML = `<div class=\"error\" style=\"color:red;\">${err}</div>`;\n",
       "      throw err;\n",
       "    }\n",
       "\n",
       "    function displayChart(vegaEmbed) {\n",
       "      vegaEmbed(outputDiv, spec, embedOpt)\n",
       "        .catch(err => showError(`Javascript Error: ${err.message}<br>This usually means there's a typo in your chart specification. See the javascript console for the full traceback.`));\n",
       "    }\n",
       "\n",
       "    if(typeof define === \"function\" && define.amd) {\n",
       "      requirejs.config({paths});\n",
       "      require([\"vega-embed\"], displayChart, err => showError(`Error loading script: ${err.message}`));\n",
       "    } else {\n",
       "      maybeLoadScript(\"vega\", \"5\")\n",
       "        .then(() => maybeLoadScript(\"vega-lite\", \"4.17.0\"))\n",
       "        .then(() => maybeLoadScript(\"vega-embed\", \"6\"))\n",
       "        .catch(showError)\n",
       "        .then(() => displayChart(vegaEmbed));\n",
       "    }\n",
       "  })({\"config\": {\"view\": {\"continuousWidth\": 400, \"continuousHeight\": 300}}, \"data\": {\"url\": \"https://raw.githubusercontent.com/UIUC-iSchool-DataViz/is445_bcubcg_fall2022/main/data/building_inventory.csv\"}, \"mark\": {\"type\": \"bar\", \"opacity\": 0.9}, \"encoding\": {\"color\": {\"aggregate\": \"average\", \"field\": \"Square Footage\", \"type\": \"quantitative\"}, \"x\": {\"field\": \"Agency Name\", \"type\": \"ordinal\"}, \"y\": {\"aggregate\": \"average\", \"field\": \"Total Floors\", \"type\": \"quantitative\"}}, \"width\": 575, \"$schema\": \"https://vega.github.io/schema/vega-lite/v4.17.0.json\"}, {\"mode\": \"vega-lite\"});\n",
       "</script>"
      ],
      "text/plain": [
       "alt.Chart(...)"
      ]
     },
     "execution_count": 3,
     "metadata": {},
     "output_type": "execute_result"
    }
   ],
   "source": [
    "plt1"
   ]
  },
  {
   "cell_type": "markdown",
   "id": "6681d2ae",
   "metadata": {},
   "source": [
    "# Plot 2"
   ]
  },
  {
   "cell_type": "code",
   "execution_count": 4,
   "id": "3012cd45",
   "metadata": {},
   "outputs": [],
   "source": [
    "plt2 = alt.Chart.from_dict(\n",
    "{\n",
    "  \"data\":{'url': 'https://raw.githubusercontent.com/UIUC-iSchool-DataViz/is445_bcubcg_fall2022/main/data/building_inventory.csv'},\n",
    "  \"mark\": {\"type\":\"bar\", \"color\":\"red\", \"opacity\":0.6},\n",
    "  \"width\":575,\n",
    "  \"encoding\":{\n",
    "    \"x\":{\"field\":'Bldg Status', \"type\":\"ordinal\"},\n",
    "    \"y\":{\"field\":'Square Footage', \"type\":\"quantitative\", \"aggregate\":\"median\"}\n",
    "\n",
    "  } \n",
    "}\n",
    ")"
   ]
  },
  {
   "cell_type": "code",
   "execution_count": 5,
   "id": "18f91180",
   "metadata": {},
   "outputs": [
    {
     "data": {
      "text/html": [
       "\n",
       "<div id=\"altair-viz-67553ab22ceb4addbb784d4dae0725b8\"></div>\n",
       "<script type=\"text/javascript\">\n",
       "  var VEGA_DEBUG = (typeof VEGA_DEBUG == \"undefined\") ? {} : VEGA_DEBUG;\n",
       "  (function(spec, embedOpt){\n",
       "    let outputDiv = document.currentScript.previousElementSibling;\n",
       "    if (outputDiv.id !== \"altair-viz-67553ab22ceb4addbb784d4dae0725b8\") {\n",
       "      outputDiv = document.getElementById(\"altair-viz-67553ab22ceb4addbb784d4dae0725b8\");\n",
       "    }\n",
       "    const paths = {\n",
       "      \"vega\": \"https://cdn.jsdelivr.net/npm//vega@5?noext\",\n",
       "      \"vega-lib\": \"https://cdn.jsdelivr.net/npm//vega-lib?noext\",\n",
       "      \"vega-lite\": \"https://cdn.jsdelivr.net/npm//vega-lite@4.17.0?noext\",\n",
       "      \"vega-embed\": \"https://cdn.jsdelivr.net/npm//vega-embed@6?noext\",\n",
       "    };\n",
       "\n",
       "    function maybeLoadScript(lib, version) {\n",
       "      var key = `${lib.replace(\"-\", \"\")}_version`;\n",
       "      return (VEGA_DEBUG[key] == version) ?\n",
       "        Promise.resolve(paths[lib]) :\n",
       "        new Promise(function(resolve, reject) {\n",
       "          var s = document.createElement('script');\n",
       "          document.getElementsByTagName(\"head\")[0].appendChild(s);\n",
       "          s.async = true;\n",
       "          s.onload = () => {\n",
       "            VEGA_DEBUG[key] = version;\n",
       "            return resolve(paths[lib]);\n",
       "          };\n",
       "          s.onerror = () => reject(`Error loading script: ${paths[lib]}`);\n",
       "          s.src = paths[lib];\n",
       "        });\n",
       "    }\n",
       "\n",
       "    function showError(err) {\n",
       "      outputDiv.innerHTML = `<div class=\"error\" style=\"color:red;\">${err}</div>`;\n",
       "      throw err;\n",
       "    }\n",
       "\n",
       "    function displayChart(vegaEmbed) {\n",
       "      vegaEmbed(outputDiv, spec, embedOpt)\n",
       "        .catch(err => showError(`Javascript Error: ${err.message}<br>This usually means there's a typo in your chart specification. See the javascript console for the full traceback.`));\n",
       "    }\n",
       "\n",
       "    if(typeof define === \"function\" && define.amd) {\n",
       "      requirejs.config({paths});\n",
       "      require([\"vega-embed\"], displayChart, err => showError(`Error loading script: ${err.message}`));\n",
       "    } else {\n",
       "      maybeLoadScript(\"vega\", \"5\")\n",
       "        .then(() => maybeLoadScript(\"vega-lite\", \"4.17.0\"))\n",
       "        .then(() => maybeLoadScript(\"vega-embed\", \"6\"))\n",
       "        .catch(showError)\n",
       "        .then(() => displayChart(vegaEmbed));\n",
       "    }\n",
       "  })({\"config\": {\"view\": {\"continuousWidth\": 400, \"continuousHeight\": 300}}, \"data\": {\"url\": \"https://raw.githubusercontent.com/UIUC-iSchool-DataViz/is445_bcubcg_fall2022/main/data/building_inventory.csv\"}, \"mark\": {\"type\": \"bar\", \"color\": \"red\", \"opacity\": 0.6}, \"encoding\": {\"x\": {\"field\": \"Bldg Status\", \"type\": \"ordinal\"}, \"y\": {\"aggregate\": \"median\", \"field\": \"Square Footage\", \"type\": \"quantitative\"}}, \"width\": 575, \"$schema\": \"https://vega.github.io/schema/vega-lite/v4.17.0.json\"}, {\"mode\": \"vega-lite\"});\n",
       "</script>"
      ],
      "text/plain": [
       "alt.Chart(...)"
      ]
     },
     "execution_count": 5,
     "metadata": {},
     "output_type": "execute_result"
    }
   ],
   "source": [
    "plt2"
   ]
  },
  {
   "cell_type": "markdown",
   "id": "b87e6b6a",
   "metadata": {},
   "source": [
    "# Combined chart \n"
   ]
  },
  {
   "cell_type": "code",
   "execution_count": 6,
   "id": "725d046d",
   "metadata": {},
   "outputs": [
    {
     "data": {
      "text/html": [
       "\n",
       "<div id=\"altair-viz-97db7b4f43ef4609bfdf6927037659ae\"></div>\n",
       "<script type=\"text/javascript\">\n",
       "  var VEGA_DEBUG = (typeof VEGA_DEBUG == \"undefined\") ? {} : VEGA_DEBUG;\n",
       "  (function(spec, embedOpt){\n",
       "    let outputDiv = document.currentScript.previousElementSibling;\n",
       "    if (outputDiv.id !== \"altair-viz-97db7b4f43ef4609bfdf6927037659ae\") {\n",
       "      outputDiv = document.getElementById(\"altair-viz-97db7b4f43ef4609bfdf6927037659ae\");\n",
       "    }\n",
       "    const paths = {\n",
       "      \"vega\": \"https://cdn.jsdelivr.net/npm//vega@5?noext\",\n",
       "      \"vega-lib\": \"https://cdn.jsdelivr.net/npm//vega-lib?noext\",\n",
       "      \"vega-lite\": \"https://cdn.jsdelivr.net/npm//vega-lite@4.17.0?noext\",\n",
       "      \"vega-embed\": \"https://cdn.jsdelivr.net/npm//vega-embed@6?noext\",\n",
       "    };\n",
       "\n",
       "    function maybeLoadScript(lib, version) {\n",
       "      var key = `${lib.replace(\"-\", \"\")}_version`;\n",
       "      return (VEGA_DEBUG[key] == version) ?\n",
       "        Promise.resolve(paths[lib]) :\n",
       "        new Promise(function(resolve, reject) {\n",
       "          var s = document.createElement('script');\n",
       "          document.getElementsByTagName(\"head\")[0].appendChild(s);\n",
       "          s.async = true;\n",
       "          s.onload = () => {\n",
       "            VEGA_DEBUG[key] = version;\n",
       "            return resolve(paths[lib]);\n",
       "          };\n",
       "          s.onerror = () => reject(`Error loading script: ${paths[lib]}`);\n",
       "          s.src = paths[lib];\n",
       "        });\n",
       "    }\n",
       "\n",
       "    function showError(err) {\n",
       "      outputDiv.innerHTML = `<div class=\"error\" style=\"color:red;\">${err}</div>`;\n",
       "      throw err;\n",
       "    }\n",
       "\n",
       "    function displayChart(vegaEmbed) {\n",
       "      vegaEmbed(outputDiv, spec, embedOpt)\n",
       "        .catch(err => showError(`Javascript Error: ${err.message}<br>This usually means there's a typo in your chart specification. See the javascript console for the full traceback.`));\n",
       "    }\n",
       "\n",
       "    if(typeof define === \"function\" && define.amd) {\n",
       "      requirejs.config({paths});\n",
       "      require([\"vega-embed\"], displayChart, err => showError(`Error loading script: ${err.message}`));\n",
       "    } else {\n",
       "      maybeLoadScript(\"vega\", \"5\")\n",
       "        .then(() => maybeLoadScript(\"vega-lite\", \"4.17.0\"))\n",
       "        .then(() => maybeLoadScript(\"vega-embed\", \"6\"))\n",
       "        .catch(showError)\n",
       "        .then(() => displayChart(vegaEmbed));\n",
       "    }\n",
       "  })({\"config\": {\"view\": {\"continuousWidth\": 400, \"continuousHeight\": 300}}, \"hconcat\": [{\"data\": {\"url\": \"https://raw.githubusercontent.com/UIUC-iSchool-DataViz/is445_bcubcg_fall2022/main/data/building_inventory.csv\"}, \"mark\": {\"type\": \"bar\", \"opacity\": 0.9}, \"encoding\": {\"color\": {\"aggregate\": \"average\", \"field\": \"Square Footage\", \"type\": \"quantitative\"}, \"x\": {\"field\": \"Agency Name\", \"type\": \"ordinal\"}, \"y\": {\"aggregate\": \"average\", \"field\": \"Total Floors\", \"type\": \"quantitative\"}}, \"width\": 575}, {\"data\": {\"url\": \"https://raw.githubusercontent.com/UIUC-iSchool-DataViz/is445_bcubcg_fall2022/main/data/building_inventory.csv\"}, \"mark\": {\"type\": \"bar\", \"color\": \"red\", \"opacity\": 0.6}, \"encoding\": {\"x\": {\"field\": \"Bldg Status\", \"type\": \"ordinal\"}, \"y\": {\"aggregate\": \"median\", \"field\": \"Square Footage\", \"type\": \"quantitative\"}}, \"width\": 575}], \"$schema\": \"https://vega.github.io/schema/vega-lite/v4.17.0.json\"}, {\"mode\": \"vega-lite\"});\n",
       "</script>"
      ],
      "text/plain": [
       "alt.HConcatChart(...)"
      ]
     },
     "execution_count": 6,
     "metadata": {},
     "output_type": "execute_result"
    }
   ],
   "source": [
    "combi=alt.HConcatChart(hconcat=[plt1,plt2])\n",
    "combi"
   ]
  },
  {
   "cell_type": "markdown",
   "id": "392c40e3",
   "metadata": {},
   "source": [
    "# Combined chart with interactivity (selection)\n"
   ]
  },
  {
   "cell_type": "code",
   "execution_count": 7,
   "id": "2b9e063a",
   "metadata": {},
   "outputs": [],
   "source": [
    "brush = alt.selection_interval(encodings=['x','y'])"
   ]
  },
  {
   "cell_type": "code",
   "execution_count": 8,
   "id": "654a2ebd",
   "metadata": {},
   "outputs": [],
   "source": [
    "#add selection to plot 1\n",
    "plt1 = alt.Chart.from_dict({\n",
    "  \"data\":{'url': 'https://raw.githubusercontent.com/UIUC-iSchool-DataViz/is445_bcubcg_fall2022/main/data/building_inventory.csv'},\n",
    "  \"mark\": {\"type\":\"bar\", \"opacity\":0.9},\n",
    "  \"width\":575,\n",
    "  \"encoding\":{\n",
    "    \"x\":{\"field\":'Agency Name', \"type\":\"ordinal\"},\n",
    "    \"y\":{\"field\":'Total Floors', \"type\":\"quantitative\", \"aggregate\":\"average\"},\n",
    "    \"color\":{\"field\":'Square Footage',\"type\":\"quantitative\", \"aggregate\":\"average\"}\n",
    "  } \n",
    "}   \n",
    ").add_selection(\n",
    "        brush\n",
    "    )"
   ]
  },
  {
   "cell_type": "code",
   "execution_count": 9,
   "id": "6df68396",
   "metadata": {},
   "outputs": [],
   "source": [
    "plt2 = alt.Chart.from_dict(\n",
    "{\n",
    "  \"data\":{'url': 'https://raw.githubusercontent.com/UIUC-iSchool-DataViz/is445_bcubcg_fall2022/main/data/building_inventory.csv'},\n",
    "  \"mark\": {\"type\":\"bar\", \"color\":\"red\", \"opacity\":0.6},\n",
    "  \"width\":575,\n",
    "  \"encoding\":{\n",
    "    \"x\":{\"field\":'Bldg Status', \"type\":\"ordinal\"},\n",
    "    \"y\":{\"field\":'Square Footage', \"type\":\"quantitative\", \"aggregate\":\"median\"}\n",
    "\n",
    "  } \n",
    "}\n",
    ").transform_filter(brush)"
   ]
  },
  {
   "cell_type": "code",
   "execution_count": 10,
   "id": "b8ff6f46",
   "metadata": {},
   "outputs": [],
   "source": [
    "final_chart= plt1 | plt2"
   ]
  },
  {
   "cell_type": "code",
   "execution_count": 11,
   "id": "ab384446",
   "metadata": {},
   "outputs": [
    {
     "data": {
      "text/html": [
       "\n",
       "<div id=\"altair-viz-1b83bd7c63c34976bcdf3ddd0d6d553d\"></div>\n",
       "<script type=\"text/javascript\">\n",
       "  var VEGA_DEBUG = (typeof VEGA_DEBUG == \"undefined\") ? {} : VEGA_DEBUG;\n",
       "  (function(spec, embedOpt){\n",
       "    let outputDiv = document.currentScript.previousElementSibling;\n",
       "    if (outputDiv.id !== \"altair-viz-1b83bd7c63c34976bcdf3ddd0d6d553d\") {\n",
       "      outputDiv = document.getElementById(\"altair-viz-1b83bd7c63c34976bcdf3ddd0d6d553d\");\n",
       "    }\n",
       "    const paths = {\n",
       "      \"vega\": \"https://cdn.jsdelivr.net/npm//vega@5?noext\",\n",
       "      \"vega-lib\": \"https://cdn.jsdelivr.net/npm//vega-lib?noext\",\n",
       "      \"vega-lite\": \"https://cdn.jsdelivr.net/npm//vega-lite@4.17.0?noext\",\n",
       "      \"vega-embed\": \"https://cdn.jsdelivr.net/npm//vega-embed@6?noext\",\n",
       "    };\n",
       "\n",
       "    function maybeLoadScript(lib, version) {\n",
       "      var key = `${lib.replace(\"-\", \"\")}_version`;\n",
       "      return (VEGA_DEBUG[key] == version) ?\n",
       "        Promise.resolve(paths[lib]) :\n",
       "        new Promise(function(resolve, reject) {\n",
       "          var s = document.createElement('script');\n",
       "          document.getElementsByTagName(\"head\")[0].appendChild(s);\n",
       "          s.async = true;\n",
       "          s.onload = () => {\n",
       "            VEGA_DEBUG[key] = version;\n",
       "            return resolve(paths[lib]);\n",
       "          };\n",
       "          s.onerror = () => reject(`Error loading script: ${paths[lib]}`);\n",
       "          s.src = paths[lib];\n",
       "        });\n",
       "    }\n",
       "\n",
       "    function showError(err) {\n",
       "      outputDiv.innerHTML = `<div class=\"error\" style=\"color:red;\">${err}</div>`;\n",
       "      throw err;\n",
       "    }\n",
       "\n",
       "    function displayChart(vegaEmbed) {\n",
       "      vegaEmbed(outputDiv, spec, embedOpt)\n",
       "        .catch(err => showError(`Javascript Error: ${err.message}<br>This usually means there's a typo in your chart specification. See the javascript console for the full traceback.`));\n",
       "    }\n",
       "\n",
       "    if(typeof define === \"function\" && define.amd) {\n",
       "      requirejs.config({paths});\n",
       "      require([\"vega-embed\"], displayChart, err => showError(`Error loading script: ${err.message}`));\n",
       "    } else {\n",
       "      maybeLoadScript(\"vega\", \"5\")\n",
       "        .then(() => maybeLoadScript(\"vega-lite\", \"4.17.0\"))\n",
       "        .then(() => maybeLoadScript(\"vega-embed\", \"6\"))\n",
       "        .catch(showError)\n",
       "        .then(() => displayChart(vegaEmbed));\n",
       "    }\n",
       "  })({\"config\": {\"view\": {\"continuousWidth\": 400, \"continuousHeight\": 300}}, \"hconcat\": [{\"data\": {\"url\": \"https://raw.githubusercontent.com/UIUC-iSchool-DataViz/is445_bcubcg_fall2022/main/data/building_inventory.csv\"}, \"mark\": {\"type\": \"bar\", \"opacity\": 0.9}, \"encoding\": {\"color\": {\"aggregate\": \"average\", \"field\": \"Square Footage\", \"type\": \"quantitative\"}, \"x\": {\"field\": \"Agency Name\", \"type\": \"ordinal\"}, \"y\": {\"aggregate\": \"average\", \"field\": \"Total Floors\", \"type\": \"quantitative\"}}, \"selection\": {\"selector001\": {\"type\": \"interval\", \"encodings\": [\"x\", \"y\"]}}, \"width\": 575}, {\"data\": {\"url\": \"https://raw.githubusercontent.com/UIUC-iSchool-DataViz/is445_bcubcg_fall2022/main/data/building_inventory.csv\"}, \"mark\": {\"type\": \"bar\", \"color\": \"red\", \"opacity\": 0.6}, \"encoding\": {\"x\": {\"field\": \"Bldg Status\", \"type\": \"ordinal\"}, \"y\": {\"aggregate\": \"median\", \"field\": \"Square Footage\", \"type\": \"quantitative\"}}, \"transform\": [{\"filter\": {\"selection\": \"selector001\"}}], \"width\": 575}], \"$schema\": \"https://vega.github.io/schema/vega-lite/v4.17.0.json\"}, {\"mode\": \"vega-lite\"});\n",
       "</script>"
      ],
      "text/plain": [
       "alt.HConcatChart(...)"
      ]
     },
     "execution_count": 11,
     "metadata": {},
     "output_type": "execute_result"
    }
   ],
   "source": [
    "final_chart"
   ]
  },
  {
   "cell_type": "code",
   "execution_count": 15,
   "id": "88a61b2e",
   "metadata": {},
   "outputs": [],
   "source": [
    "# git folder and notebook should be in the same directory\n",
    "final_chart.save(\"achuri2.github.io/assets/json/file.json\")"
   ]
  },
  {
   "cell_type": "code",
   "execution_count": null,
   "id": "9ea39f5c",
   "metadata": {},
   "outputs": [],
   "source": []
  }
 ],
 "metadata": {
  "kernelspec": {
   "display_name": "Python 3 (ipykernel)",
   "language": "python",
   "name": "python3"
  },
  "language_info": {
   "codemirror_mode": {
    "name": "ipython",
    "version": 3
   },
   "file_extension": ".py",
   "mimetype": "text/x-python",
   "name": "python",
   "nbconvert_exporter": "python",
   "pygments_lexer": "ipython3",
   "version": "3.9.12"
  }
 },
 "nbformat": 4,
 "nbformat_minor": 5
}
